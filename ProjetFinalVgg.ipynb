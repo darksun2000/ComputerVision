{
  "nbformat": 4,
  "nbformat_minor": 0,
  "metadata": {
    "colab": {
      "name": "ProjetFinalVgg.ipynb",
      "provenance": [],
      "collapsed_sections": []
    },
    "kernelspec": {
      "display_name": "Python 3",
      "name": "python3"
    },
    "accelerator": "GPU"
  },
  "cells": [
    {
      "cell_type": "code",
      "metadata": {
        "colab": {
          "base_uri": "https://localhost:8080/"
        },
        "id": "p6jptYJP1gWA",
        "outputId": "adb2855f-393d-4443-b61c-365f1a05d656"
      },
      "source": [
        "pip install opencv-python==4.4.0.46 opencv-contrib-python==4.4.0.40"
      ],
      "execution_count": null,
      "outputs": [
        {
          "output_type": "stream",
          "text": [
            "Collecting opencv-python==4.4.0.46\n",
            "\u001b[?25l  Downloading https://files.pythonhosted.org/packages/6d/80/10a9ae6fa0940f25af32739d1dc6dfdbbdc79af3f04c5ea1a6de4303cd54/opencv_python-4.4.0.46-cp36-cp36m-manylinux2014_x86_64.whl (49.5MB)\n",
            "\u001b[K     |████████████████████████████████| 49.5MB 65kB/s \n",
            "\u001b[?25hCollecting opencv-contrib-python==4.4.0.40\n",
            "\u001b[?25l  Downloading https://files.pythonhosted.org/packages/c0/6e/9091dc9330bafb68f04ff74e2ddf6f8926e3afb8840f3f0b2125b94dade1/opencv_contrib_python-4.4.0.40-cp36-cp36m-manylinux2014_x86_64.whl (55.6MB)\n",
            "\u001b[K     |████████████████████████████████| 55.6MB 58kB/s \n",
            "\u001b[?25hRequirement already satisfied: numpy>=1.13.3 in /usr/local/lib/python3.6/dist-packages (from opencv-python==4.4.0.46) (1.19.4)\n",
            "\u001b[31mERROR: albumentations 0.1.12 has requirement imgaug<0.2.7,>=0.2.5, but you'll have imgaug 0.2.9 which is incompatible.\u001b[0m\n",
            "Installing collected packages: opencv-python, opencv-contrib-python\n",
            "  Found existing installation: opencv-python 4.1.2.30\n",
            "    Uninstalling opencv-python-4.1.2.30:\n",
            "      Successfully uninstalled opencv-python-4.1.2.30\n",
            "  Found existing installation: opencv-contrib-python 4.1.2.30\n",
            "    Uninstalling opencv-contrib-python-4.1.2.30:\n",
            "      Successfully uninstalled opencv-contrib-python-4.1.2.30\n",
            "Successfully installed opencv-contrib-python-4.4.0.40 opencv-python-4.4.0.46\n"
          ],
          "name": "stdout"
        }
      ]
    },
    {
      "cell_type": "code",
      "metadata": {
        "colab": {
          "base_uri": "https://localhost:8080/"
        },
        "id": "BfhmUy1Q1ihg",
        "outputId": "e4df33ea-2372-4dca-aa4e-ad16ffc754a8"
      },
      "source": [
        "file_id=\"1qAD7StpMovQM2u8g6kgf9CysYs-vZ-P-\"\r\n",
        "!gdown https://drive.google.com/uc?id={file_id}\r\n",
        "\r\n",
        "\r\n",
        "\r\n",
        "!unzip -q datasetProjetS5_2020.zip"
      ],
      "execution_count": null,
      "outputs": [
        {
          "output_type": "stream",
          "text": [
            "Downloading...\n",
            "From: https://drive.google.com/uc?id=1qAD7StpMovQM2u8g6kgf9CysYs-vZ-P-\n",
            "To: /content/datasetProjetS5_2020.zip\n",
            "864MB [00:07, 109MB/s]\n"
          ],
          "name": "stdout"
        }
      ]
    },
    {
      "cell_type": "code",
      "metadata": {
        "id": "NLdPOBbB1oMA"
      },
      "source": [
        "!rm -rf /content/datasetProjetS5_2020/test/Background_without_leaves\r\n",
        "!rm -rf /content/datasetProjetS5_2020/train/Background_without_leaves\r\n",
        "!rm -rf /content/datasetProjetS5_2020/valid/Background_without_leaves"
      ],
      "execution_count": null,
      "outputs": []
    },
    {
      "cell_type": "code",
      "metadata": {
        "id": "KRPymG7K1b7K"
      },
      "source": [
        "from keras.layers.core import Flatten, Dense, Dropout, Reshape\r\n",
        "from keras.models import Model\r\n",
        "from keras.layers import Input, ZeroPadding2D, Dropout\r\n",
        "from keras import optimizers\r\n",
        "from keras.optimizers import SGD\r\n",
        "from keras.preprocessing.image import ImageDataGenerator\r\n",
        "from keras.callbacks import EarlyStopping\r\n",
        "\r\n",
        "from keras.applications.vgg16 import VGG16\r\n",
        "\r\n",
        "from tensorflow import keras\r\n",
        "from keras.models import Sequential\r\n",
        "from keras.layers import Conv2D, MaxPooling2D, Flatten, Dense\r\n",
        "from keras.applications.vgg16 import VGG16, preprocess_input, decode_predictions\r\n",
        "from keras.preprocessing.image import load_img, img_to_array\r\n",
        "import tensorflow as tf\r\n",
        "\r\n",
        "import matplotlib.pyplot as plt\r\n",
        "\r\n",
        "import cv2\r\n",
        "import os\r\n",
        "import numpy as np\r\n"
      ],
      "execution_count": null,
      "outputs": []
    },
    {
      "cell_type": "code",
      "metadata": {
        "id": "3orhofrc04Dx"
      },
      "source": [
        "def getTargets(dataType,nbreClass):\r\n",
        "  #------mettre les noms des classes dans target------#\r\n",
        "  target = os.listdir('datasetProjetS5_2020/'+dataType)\r\n",
        "  target.sort()\r\n",
        "  #------on prend qu'un exemplaire de classes----#\r\n",
        "  target_sample=[0]*nbreClass\r\n",
        "  for i in range(nbreClass):\r\n",
        "    target_sample[i]=target[i]\r\n",
        "  #--------- retourne exemplaire de classes----#\r\n",
        "  return target_sample\r\n",
        "\r\n",
        "def getNameByNum(num):\r\n",
        "    targets=getTargets(\"train\",38)\r\n",
        "    return targets[num]\r\n"
      ],
      "execution_count": null,
      "outputs": []
    },
    {
      "cell_type": "code",
      "metadata": {
        "id": "DrBOqW-z9mVS",
        "colab": {
          "base_uri": "https://localhost:8080/"
        },
        "outputId": "1db11bbe-3164-4d99-efe0-6a7aa35c716b"
      },
      "source": [
        "from tensorflow.keras.applications import vgg16\r\n",
        "image_size=256\r\n",
        "# Init the VGG model \r\n",
        "vgg_conv = vgg16.VGG16(weights='imagenet', include_top=False,\r\n",
        "                       input_shape=(image_size, image_size, 3))\r\n",
        "# Freeze all the layers\r\n",
        "for layer in vgg_conv.layers[:]:\r\n",
        "    layer.trainable = False\r\n",
        "\r\n",
        "# Check the trainable status of the individual layers\r\n",
        "for layer in vgg_conv.layers:\r\n",
        "    print(layer, layer.trainable)\r\n",
        "# Create the model\r\n",
        "model = Sequential()\r\n",
        "\r\n",
        "# Add the vgg convolutional base model\r\n",
        "model.add(vgg_conv)\r\n",
        "\r\n",
        "# Add new layers\r\n",
        "model.add(Flatten())\r\n",
        "model.add(Dense(1024, activation='relu'))\r\n",
        "model.add(Dropout(0.5))\r\n",
        "model.add(Dense(38, activation='softmax'))\r\n",
        "\r\n",
        "# Show a summary of the model. Check the number of trainable parameters\r\n",
        "model.summary()"
      ],
      "execution_count": null,
      "outputs": [
        {
          "output_type": "stream",
          "text": [
            "Downloading data from https://storage.googleapis.com/tensorflow/keras-applications/vgg16/vgg16_weights_tf_dim_ordering_tf_kernels_notop.h5\n",
            "58892288/58889256 [==============================] - 0s 0us/step\n",
            "<tensorflow.python.keras.engine.input_layer.InputLayer object at 0x7ff9d2aed668> False\n",
            "<tensorflow.python.keras.layers.convolutional.Conv2D object at 0x7ff9c7af18d0> False\n",
            "<tensorflow.python.keras.layers.convolutional.Conv2D object at 0x7ff9c723a668> False\n",
            "<tensorflow.python.keras.layers.pooling.MaxPooling2D object at 0x7ff9c726aef0> False\n",
            "<tensorflow.python.keras.layers.convolutional.Conv2D object at 0x7ff9c726ccf8> False\n",
            "<tensorflow.python.keras.layers.convolutional.Conv2D object at 0x7ff9c726a400> False\n",
            "<tensorflow.python.keras.layers.pooling.MaxPooling2D object at 0x7ff9c7276e80> False\n",
            "<tensorflow.python.keras.layers.convolutional.Conv2D object at 0x7ff9b01bdfd0> False\n",
            "<tensorflow.python.keras.layers.convolutional.Conv2D object at 0x7ff9b01c7d68> False\n",
            "<tensorflow.python.keras.layers.convolutional.Conv2D object at 0x7ff9b01bd550> False\n",
            "<tensorflow.python.keras.layers.pooling.MaxPooling2D object at 0x7ff9b01cdb70> False\n",
            "<tensorflow.python.keras.layers.convolutional.Conv2D object at 0x7ff9b01d3d30> False\n",
            "<tensorflow.python.keras.layers.convolutional.Conv2D object at 0x7ff9b01d3080> False\n",
            "<tensorflow.python.keras.layers.convolutional.Conv2D object at 0x7ff9c726c470> False\n",
            "<tensorflow.python.keras.layers.pooling.MaxPooling2D object at 0x7ff9c723a5c0> False\n",
            "<tensorflow.python.keras.layers.convolutional.Conv2D object at 0x7ff9b01d8d68> False\n",
            "<tensorflow.python.keras.layers.convolutional.Conv2D object at 0x7ff9c7276ac8> False\n",
            "<tensorflow.python.keras.layers.convolutional.Conv2D object at 0x7ff9b01def60> False\n",
            "<tensorflow.python.keras.layers.pooling.MaxPooling2D object at 0x7ff9b01e3550> False\n",
            "Model: \"sequential\"\n",
            "_________________________________________________________________\n",
            "Layer (type)                 Output Shape              Param #   \n",
            "=================================================================\n",
            "vgg16 (Functional)           (None, 8, 8, 512)         14714688  \n",
            "_________________________________________________________________\n",
            "flatten (Flatten)            (None, 32768)             0         \n",
            "_________________________________________________________________\n",
            "dense (Dense)                (None, 1024)              33555456  \n",
            "_________________________________________________________________\n",
            "dropout (Dropout)            (None, 1024)              0         \n",
            "_________________________________________________________________\n",
            "dense_1 (Dense)              (None, 38)                38950     \n",
            "=================================================================\n",
            "Total params: 48,309,094\n",
            "Trainable params: 33,594,406\n",
            "Non-trainable params: 14,714,688\n",
            "_________________________________________________________________\n"
          ],
          "name": "stdout"
        }
      ]
    },
    {
      "cell_type": "code",
      "metadata": {
        "id": "iXogarHR-2p9",
        "colab": {
          "base_uri": "https://localhost:8080/"
        },
        "outputId": "bd5ae25d-1ccb-4252-b5c6-9f5c93b4a831"
      },
      "source": [
        "# Load the normalized images\r\n",
        "train_datagen = ImageDataGenerator(rescale=1./255)\r\n",
        "validation_datagen = ImageDataGenerator(rescale=1./255)\r\n",
        "\r\n",
        "# Change the batchsize according to your system RAM\r\n",
        "train_batchsize = 100\r\n",
        "val_batchsize = 10\r\n",
        "\r\n",
        "# Data generator for training data\r\n",
        "train_generator = train_datagen.flow_from_directory(\r\n",
        "        \"/content/datasetProjetS5_2020/train\",\r\n",
        "        target_size=(image_size, image_size),\r\n",
        "        batch_size=train_batchsize,\r\n",
        "        class_mode='categorical')\r\n",
        "\r\n",
        "# Data generator for validation data\r\n",
        "validation_generator = validation_datagen.flow_from_directory(\r\n",
        "        \"/content/datasetProjetS5_2020/test\",\r\n",
        "        target_size=(image_size, image_size),\r\n",
        "        batch_size=val_batchsize,\r\n",
        "        class_mode='categorical',\r\n",
        "        shuffle=False)"
      ],
      "execution_count": null,
      "outputs": [
        {
          "output_type": "stream",
          "text": [
            "Found 35249 images belonging to 38 classes.\n",
            "Found 10770 images belonging to 38 classes.\n"
          ],
          "name": "stdout"
        }
      ]
    },
    {
      "cell_type": "code",
      "metadata": {
        "colab": {
          "base_uri": "https://localhost:8080/"
        },
        "id": "iKfaXSQvD925",
        "outputId": "613702b9-7d5c-4615-ba06-b046551aa514"
      },
      "source": [
        "# Configure the model for training\r\n",
        "model.compile(loss='categorical_crossentropy',\r\n",
        "              optimizer=optimizers.RMSprop(lr=1e-4),\r\n",
        "              metrics=['acc'])\r\n",
        "\r\n",
        "# Train the model\r\n",
        "history = model.fit(\r\n",
        "      train_generator,\r\n",
        "      steps_per_epoch=\r\n",
        "         train_generator.samples/train_generator.batch_size,\r\n",
        "      epochs=20,\r\n",
        "      validation_data=validation_generator, \r\n",
        "      validation_steps=\r\n",
        "         validation_generator.samples/validation_generator.batch_size,\r\n",
        "      verbose=1)"
      ],
      "execution_count": null,
      "outputs": [
        {
          "output_type": "stream",
          "text": [
            "Epoch 1/20\n",
            "352/352 [==============================] - 284s 778ms/step - loss: 1.5946 - acc: 0.6072 - val_loss: 0.3712 - val_acc: 0.8804\n",
            "Epoch 2/20\n",
            "352/352 [==============================] - 271s 770ms/step - loss: 0.3734 - acc: 0.8843 - val_loss: 0.2039 - val_acc: 0.9378\n",
            "Epoch 3/20\n",
            "352/352 [==============================] - 271s 769ms/step - loss: 0.2351 - acc: 0.9247 - val_loss: 0.1872 - val_acc: 0.9405\n",
            "Epoch 4/20\n",
            "352/352 [==============================] - 271s 769ms/step - loss: 0.1673 - acc: 0.9472 - val_loss: 0.1762 - val_acc: 0.9407\n",
            "Epoch 5/20\n",
            "352/352 [==============================] - 271s 768ms/step - loss: 0.1303 - acc: 0.9566 - val_loss: 0.1531 - val_acc: 0.9508\n",
            "Epoch 6/20\n",
            "352/352 [==============================] - 271s 768ms/step - loss: 0.1081 - acc: 0.9643 - val_loss: 0.1226 - val_acc: 0.9607\n",
            "Epoch 7/20\n",
            "352/352 [==============================] - 271s 769ms/step - loss: 0.0889 - acc: 0.9708 - val_loss: 0.1238 - val_acc: 0.9590\n",
            "Epoch 8/20\n",
            "352/352 [==============================] - 271s 768ms/step - loss: 0.0743 - acc: 0.9751 - val_loss: 0.1268 - val_acc: 0.9591\n",
            "Epoch 9/20\n",
            "352/352 [==============================] - 271s 769ms/step - loss: 0.0613 - acc: 0.9792 - val_loss: 0.1374 - val_acc: 0.9549\n",
            "Epoch 10/20\n",
            "352/352 [==============================] - 271s 768ms/step - loss: 0.0540 - acc: 0.9825 - val_loss: 0.1361 - val_acc: 0.9578\n",
            "Epoch 11/20\n",
            "352/352 [==============================] - 271s 768ms/step - loss: 0.0472 - acc: 0.9848 - val_loss: 0.1264 - val_acc: 0.9601\n",
            "Epoch 12/20\n",
            "352/352 [==============================] - 271s 768ms/step - loss: 0.0412 - acc: 0.9860 - val_loss: 0.1315 - val_acc: 0.9595\n",
            "Epoch 13/20\n",
            "352/352 [==============================] - 271s 768ms/step - loss: 0.0383 - acc: 0.9877 - val_loss: 0.1276 - val_acc: 0.9616\n",
            "Epoch 14/20\n",
            "352/352 [==============================] - 271s 769ms/step - loss: 0.0322 - acc: 0.9898 - val_loss: 0.1129 - val_acc: 0.9658\n",
            "Epoch 15/20\n",
            "352/352 [==============================] - 271s 770ms/step - loss: 0.0312 - acc: 0.9902 - val_loss: 0.1158 - val_acc: 0.9657\n",
            "Epoch 16/20\n",
            "352/352 [==============================] - 271s 769ms/step - loss: 0.0267 - acc: 0.9900 - val_loss: 0.1186 - val_acc: 0.9658\n",
            "Epoch 17/20\n",
            "352/352 [==============================] - 271s 769ms/step - loss: 0.0256 - acc: 0.9911 - val_loss: 0.1162 - val_acc: 0.9676\n",
            "Epoch 18/20\n",
            "352/352 [==============================] - 271s 769ms/step - loss: 0.0226 - acc: 0.9928 - val_loss: 0.1234 - val_acc: 0.9646\n",
            "Epoch 19/20\n",
            "352/352 [==============================] - 270s 767ms/step - loss: 0.0203 - acc: 0.9937 - val_loss: 0.1324 - val_acc: 0.9613\n",
            "Epoch 20/20\n",
            "352/352 [==============================] - 270s 765ms/step - loss: 0.0210 - acc: 0.9931 - val_loss: 0.1181 - val_acc: 0.9684\n"
          ],
          "name": "stdout"
        }
      ]
    },
    {
      "cell_type": "code",
      "metadata": {
        "id": "udX3Iz7IEF59",
        "colab": {
          "base_uri": "https://localhost:8080/",
          "height": 545
        },
        "outputId": "45a121b5-da16-436e-e605-798ca1144c89"
      },
      "source": [
        "# Utility function for plotting of the model results\r\n",
        "def visualize_results(history):\r\n",
        "    # Plot the accuracy and loss curves\r\n",
        "    acc = history.history['acc']\r\n",
        "    val_acc = history.history['val_acc']\r\n",
        "    loss = history.history['loss']\r\n",
        "    val_loss = history.history['val_loss']\r\n",
        "\r\n",
        "    epochs = range(len(acc))\r\n",
        "\r\n",
        "    plt.plot(epochs, acc, 'b', label='Training acc')\r\n",
        "    plt.plot(epochs, val_acc, 'r', label='Validation acc')\r\n",
        "    plt.title('Training and validation accuracy')\r\n",
        "    plt.legend()\r\n",
        "\r\n",
        "    plt.figure()\r\n",
        "\r\n",
        "    plt.plot(epochs, loss, 'b', label='Training loss')\r\n",
        "    plt.plot(epochs, val_loss, 'r', label='Validation loss')\r\n",
        "    plt.title('Training and validation loss')\r\n",
        "    plt.legend()\r\n",
        "\r\n",
        "    plt.show()\r\n",
        "\r\n",
        "\r\n",
        "# Run the function to illustrate accuracy and loss\r\n",
        "visualize_results(history)"
      ],
      "execution_count": null,
      "outputs": [
        {
          "output_type": "display_data",
          "data": {
            "image/png": "[encoded data removed]",
            "text/plain": [
              "<Figure size 432x288 with 1 Axes>"
            ]
          },
          "metadata": {
            "tags": [],
            "needs_background": "light"
          }
        },
        {
          "output_type": "display_data",
          "data": {
            "image/png": "[encoded data removed]",
            "text/plain": [
              "<Figure size 432x288 with 1 Axes>"
            ]
          },
          "metadata": {
            "tags": [],
            "needs_background": "light"
          }
        }
      ]
    },
    {
      "cell_type": "code",
      "metadata": {
        "id": "sdbkx7wnyL-u"
      },
      "source": [
        "model.save('MyVggModel.h5')"
      ],
      "execution_count": null,
      "outputs": []
    },
    {
      "cell_type": "code",
      "metadata": {
        "id": "EY-HNhjROtLO"
      },
      "source": [
        "model = tf.keras.models.load_model(\r\n",
        "    \"/content/drive/MyDrive/Colab Notebooks/MyVggModel .h5\", custom_objects=None, compile=True, options=None\r\n",
        ")"
      ],
      "execution_count": null,
      "outputs": []
    },
    {
      "cell_type": "code",
      "metadata": {
        "id": "S6J0JpB4UclQ",
        "colab": {
          "base_uri": "https://localhost:8080/"
        },
        "outputId": "10a2ecd8-2046-4b06-b5e4-bac895731656"
      },
      "source": [
        "\r\n",
        "def recognizeImage(image_path):\r\n",
        "  image = tf.keras.preprocessing.image.load_img(image_path)\r\n",
        "  input_arr = keras.preprocessing.image.img_to_array(image)\r\n",
        "  input_arr = np.array([input_arr])  # Convert single image to a batch.\r\n",
        "  arr=model.predict(input_arr)[0]\r\n",
        "  maxElement = np.amax(arr)\r\n",
        "  result = np.where(arr == maxElement)\r\n",
        "  result = getNameByNum(result[0][0])\r\n",
        "  print(result)\r\n",
        "\r\n",
        "\r\n",
        "recognizeImage(\"/content/datasetProjetS5_2020/valid/Grape___healthy/image (277).JPG\")\r\n",
        "recognizeImage(\"/content/datasetProjetS5_2020/valid/Orange___Haunglongbing_(Citrus_greening)/image (3608).JPG\")\r\n",
        "recognizeImage(\"/content/datasetProjetS5_2020/valid/Grape___Black_rot/image (758).JPG\")\r\n",
        "recognizeImage(\"/content/datasetProjetS5_2020/valid/Apple___healthy/image (1056).JPG\")\r\n",
        "recognizeImage(\"/content/datasetProjetS5_2020/valid/Corn___Northern_Leaf_Blight/image (633).jpg\")\r\n",
        "recognizeImage(\"/content/datasetProjetS5_2020/valid/Corn___Common_rust/image (769).JPG\")\r\n",
        "recognizeImage(\"/content/datasetProjetS5_2020/valid/Tomato___Spider_mites Two-spotted_spider_mite/image (1080).JPG\")\r\n",
        "recognizeImage(\"/content/datasetProjetS5_2020/valid/Tomato___Leaf_Mold/image (612).JPG\")\r\n",
        "recognizeImage(\"/content/datasetProjetS5_2020/valid/Tomato___Spider_mites Two-spotted_spider_mite/image (1077).JPG\")"
      ],
      "execution_count": null,
      "outputs": [
        {
          "output_type": "stream",
          "text": [
            "Grape___healthy\n",
            "Blueberry___healthy\n",
            "Grape___Black_rot\n",
            "Apple___Black_rot\n",
            "Corn___healthy\n",
            "Corn___Common_rust\n",
            "Tomato___Septoria_leaf_spot\n",
            "Tomato___Septoria_leaf_spot\n",
            "Tomato___Septoria_leaf_spot\n"
          ],
          "name": "stdout"
        }
      ]
    }
  ]
}