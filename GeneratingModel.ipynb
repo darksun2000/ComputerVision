{
  "nbformat": 4,
  "nbformat_minor": 0,
  "metadata": {
    "colab": {
      "name": "ProjetFinal.ipynb",
      "provenance": [],
      "collapsed_sections": [
        "X-lGyAHl4jT2",
        "sGBJ4ZNM5IZp",
        "U8-PvUwX5dti",
        "hp0LBZYU5rtq",
        "JTAFImVS5wTt",
        "C7-XAkVe50Es",
        "r3RVCXbHo6F3"
      ],
      "toc_visible": true
    },
    "kernelspec": {
      "display_name": "Python 3",
      "name": "python3"
    }
  },
  "cells": [
    {
      "cell_type": "markdown",
      "metadata": {
        "id": "X-lGyAHl4jT2"
      },
      "source": [
        "# **Preinstallation and upload**"
      ]
    },
    {
      "cell_type": "code",
      "metadata": {
        "colab": {
          "base_uri": "https://localhost:8080/"
        },
        "id": "zUZi0ihLB189",
        "outputId": "b9a5a2a9-01b1-423c-fd4f-69499cb2c3fd"
      },
      "source": [
        "pip install opencv-python==4.4.0.46 opencv-contrib-python==4.4.0.40"
      ],
      "execution_count": null,
      "outputs": [
        {
          "output_type": "stream",
          "text": [
            "Collecting opencv-python==4.4.0.46\n",
            "\u001b[?25l  Downloading https://files.pythonhosted.org/packages/6d/80/10a9ae6fa0940f25af32739d1dc6dfdbbdc79af3f04c5ea1a6de4303cd54/opencv_python-4.4.0.46-cp36-cp36m-manylinux2014_x86_64.whl (49.5MB)\n",
            "\u001b[K     |████████████████████████████████| 49.5MB 96kB/s \n",
            "\u001b[?25hCollecting opencv-contrib-python==4.4.0.40\n",
            "\u001b[?25l  Downloading https://files.pythonhosted.org/packages/c0/6e/9091dc9330bafb68f04ff74e2ddf6f8926e3afb8840f3f0b2125b94dade1/opencv_contrib_python-4.4.0.40-cp36-cp36m-manylinux2014_x86_64.whl (55.6MB)\n",
            "\u001b[K     |████████████████████████████████| 55.6MB 81kB/s \n",
            "\u001b[?25hRequirement already satisfied: numpy>=1.13.3 in /usr/local/lib/python3.6/dist-packages (from opencv-python==4.4.0.46) (1.19.4)\n",
            "\u001b[31mERROR: albumentations 0.1.12 has requirement imgaug<0.2.7,>=0.2.5, but you'll have imgaug 0.2.9 which is incompatible.\u001b[0m\n",
            "Installing collected packages: opencv-python, opencv-contrib-python\n",
            "  Found existing installation: opencv-python 4.1.2.30\n",
            "    Uninstalling opencv-python-4.1.2.30:\n",
            "      Successfully uninstalled opencv-python-4.1.2.30\n",
            "  Found existing installation: opencv-contrib-python 4.1.2.30\n",
            "    Uninstalling opencv-contrib-python-4.1.2.30:\n",
            "      Successfully uninstalled opencv-contrib-python-4.1.2.30\n",
            "Successfully installed opencv-contrib-python-4.4.0.40 opencv-python-4.4.0.46\n"
          ],
          "name": "stdout"
        }
      ]
    },
    {
      "cell_type": "code",
      "metadata": {
        "colab": {
          "base_uri": "https://localhost:8080/"
        },
        "id": "teYC6SSiK8Xq",
        "outputId": "519a6d09-97e1-44a2-b63d-96de46685f3f"
      },
      "source": [
        "file_id=\"1qAD7StpMovQM2u8g6kgf9CysYs-vZ-P-\"\r\n",
        "!gdown https://drive.google.com/uc?id={file_id}\r\n",
        "\r\n",
        "\r\n",
        "\r\n",
        "!unzip -q datasetProjetS5_2020.zip"
      ],
      "execution_count": null,
      "outputs": [
        {
          "output_type": "stream",
          "text": [
            "Downloading...\n",
            "From: https://drive.google.com/uc?id=1qAD7StpMovQM2u8g6kgf9CysYs-vZ-P-\n",
            "To: /content/datasetProjetS5_2020.zip\n",
            "864MB [00:08, 103MB/s] \n"
          ],
          "name": "stdout"
        }
      ]
    },
    {
      "cell_type": "code",
      "metadata": {
        "id": "VSKEFhq-bsQa"
      },
      "source": [
        "!rm -rf /content/datasetProjetS5_2020/test/Background_without_leaves\r\n",
        "!rm -rf /content/datasetProjetS5_2020/train/Background_without_leaves\r\n",
        "!rm -rf /content/datasetProjetS5_2020/valid/Background_without_leaves"
      ],
      "execution_count": null,
      "outputs": []
    },
    {
      "cell_type": "markdown",
      "metadata": {
        "id": "sGBJ4ZNM5IZp"
      },
      "source": [
        "# **Importations and Methods**"
      ]
    },
    {
      "cell_type": "markdown",
      "metadata": {
        "id": "E32cnlYZ5P_U"
      },
      "source": [
        "importations"
      ]
    },
    {
      "cell_type": "code",
      "metadata": {
        "id": "irgx26pE0yAZ",
        "colab": {
          "base_uri": "https://localhost:8080/"
        },
        "outputId": "fc0fc16c-3879-4b4a-b695-67fd2225a4f6"
      },
      "source": [
        "#---------sklearn importations------------#\r\n",
        "from sklearn.model_selection import GridSearchCV\r\n",
        "from sklearn.svm import SVC\r\n",
        "from sklearn.metrics import classification_report\r\n",
        "from sklearn.metrics import confusion_matrix, accuracy_score\r\n",
        "from sklearn.externals import joblib\r\n",
        "\r\n",
        "#------------tracage des courbes-----------#\r\n",
        "import matplotlib.pyplot as plt\r\n",
        "\r\n",
        "#-------------cv2 de openCv -----------#\r\n",
        "import cv2\r\n",
        "\r\n",
        "#--------------importation des données----#\r\n",
        "import os\r\n",
        "\r\n",
        "#-----------calcule arithmetique---------#\r\n",
        "import numpy as np\r\n"
      ],
      "execution_count": null,
      "outputs": [
        {
          "output_type": "stream",
          "text": [
            "/usr/local/lib/python3.6/dist-packages/sklearn/externals/joblib/__init__.py:15: FutureWarning: sklearn.externals.joblib is deprecated in 0.21 and will be removed in 0.23. Please import this functionality directly from joblib, which can be installed with: pip install joblib. If this warning is raised when loading pickled models, you may need to re-serialize those models with scikit-learn 0.21+.\n",
            "  warnings.warn(msg, category=FutureWarning)\n"
          ],
          "name": "stderr"
        }
      ]
    },
    {
      "cell_type": "markdown",
      "metadata": {
        "id": "ceHxlYJP5Ucj"
      },
      "source": [
        "Methods"
      ]
    },
    {
      "cell_type": "code",
      "metadata": {
        "id": "OaP01Xy6HBzY"
      },
      "source": [
        "def max_rgb_filter(image):\r\n",
        "\t# split the image into its BGR components\r\n",
        "\t(B, G, R) = cv2.split(image)\r\n",
        "\t# find the maximum pixel intensity values for each\r\n",
        "\t# (x, y)-coordinate,, then set all pixel values less\r\n",
        "\t# than M to zero\r\n",
        "\tM = np.maximum(np.maximum(R, G), B)\r\n",
        "\tR[R < M] = 0\r\n",
        "\tG[G < M] = 0\r\n",
        "\tB[B < M] = 0\r\n",
        "\t# merge the channels back together and return the image\r\n",
        "\treturn cv2.merge([B, G, R])"
      ],
      "execution_count": null,
      "outputs": []
    },
    {
      "cell_type": "code",
      "metadata": {
        "id": "FYHBLIT06R7J"
      },
      "source": [
        "def progress(percent=0, width=30,smth=\"\"):\r\n",
        "    left = width * percent // 100\r\n",
        "    right = width - left\r\n",
        "    print('\\r',smth,' : [', '#' * left, ' ' * right, ']',\r\n",
        "          f' {percent:.0f}%',\r\n",
        "          sep='', end='', flush=True)"
      ],
      "execution_count": null,
      "outputs": []
    },
    {
      "cell_type": "code",
      "metadata": {
        "id": "TC9WN6V71eE2"
      },
      "source": [
        "def importData(dataType,nbreClass):\r\n",
        "  print(\"------------------------------------------\")\r\n",
        "  #---------Array contenant les noms des repertoires/classes------#\r\n",
        "  target = os.listdir('datasetProjetS5_2020/'+dataType)\r\n",
        "  target.sort()\r\n",
        "  #----------------------------------------------------------------#\r\n",
        "  #-data_name contenire le path de chaque image et targets la classe correspondante-#\r\n",
        "  data_name=[]\r\n",
        "  targets=[]\r\n",
        "  #-----la premiere boucle pour passer sur les classes-------#\r\n",
        "  for i in range(nbreClass):\r\n",
        "    #-----------avoir touts les noms des images de la classe i---------#\r\n",
        "    sous_image_names=os.listdir('datasetProjetS5_2020/'+dataType+'/'+target[i])\r\n",
        "    sous_image_names.sort()\r\n",
        "    #------------------------------------------------------------------#\r\n",
        "\r\n",
        "    #-----la deuxieme boucle pour passer sur touts les images de la classe i-------#\r\n",
        "    for j in range(len(sous_image_names)):\r\n",
        "      #-----array contenant touts le path des images de la classe i-------#\r\n",
        "        sous_image_names[j]='datasetProjetS5_2020/'+dataType+'/'+target[i]+'/'+sous_image_names[j]\r\n",
        "        #---le nom de la classe correspondante a l'image est ajouter à targets---#\r\n",
        "        targets.append(target[i])\r\n",
        "        #---le nom de l'image est lui aussi ajouter a data_name--#\r\n",
        "        data_name.append(sous_image_names[j])\r\n",
        "        #--------------------------------------------------------#\r\n",
        "\r\n",
        "  data=[]\r\n",
        "  #----cette boucle pour recuperer physiquement les photos----#\r\n",
        "  for k in range(len(data_name)):\r\n",
        "    #------------affiche une progress bar--------------#\r\n",
        "    progress(int(k*(100/len(data_name)))+1,30,\"Importation of data\")\r\n",
        "    #--extraire image en gris grace au path deja trouver------#\r\n",
        "    img =cv2.imread(str(data_name[k]),cv2.IMREAD_GRAYSCALE)\r\n",
        "#------------------------partie des filtres-----------------------------#\r\n",
        "    img = cv2.GaussianBlur(img,(3,3),1)\r\n",
        "    #img = cv2.bilateralFilter(img,3,3,3)\r\n",
        "\r\n",
        "    #img = cv2.Canny(img,250,250)\r\n",
        "    #img = cv2.Canny(img,100,200)\r\n",
        "    #img = cv2.bilateralFilter(img,5,20,100,borderType = cv2.BORDER_CONSTANT)\r\n",
        "\r\n",
        "    #img = cv2.bilateralFilter(img,9,75,75)\r\n",
        "\r\n",
        "    #img = cv2.bilateralFilter(img,3,3,3)\r\n",
        "    #img = cv2.GaussianBlur(img,(3,3),1)\r\n",
        "\r\n",
        "    #img = max_rgb_filter(img)\r\n",
        "    #img = cv2.bilateralFilter(img,3,3,3)\r\n",
        "    #img = cv2.Laplacian(img,cv2.CV_64F, ksize=3)\r\n",
        "    #img = cv2.equalizeHist(img)\r\n",
        "#-----------------------------------------------------------------------#\r\n",
        "    data.append(img)\r\n",
        "  print(\"\\n------------------Done------------------\")\r\n",
        "  return data ,targets"
      ],
      "execution_count": null,
      "outputs": []
    },
    {
      "cell_type": "code",
      "metadata": {
        "id": "PCGMpp2nyl_p"
      },
      "source": [
        "def getTargets(dataType,nbreClass):\r\n",
        "  print(\"Importation of targets\")\r\n",
        "  #------mettre les noms des classes dans target------#\r\n",
        "  target = os.listdir('datasetProjetS5_2020/'+dataType)\r\n",
        "  target.sort()\r\n",
        "  #------on prend qu'un exemplaire de classes----#\r\n",
        "  target_sample=[0]*nbreClass\r\n",
        "  for i in range(nbreClass):\r\n",
        "    target_sample[i]=target[i]\r\n",
        "  print(\"------------------Done------------------\")\r\n",
        "  #--------- retourne exemplaire de classes----#\r\n",
        "  return target_sample"
      ],
      "execution_count": null,
      "outputs": []
    },
    {
      "cell_type": "code",
      "metadata": {
        "id": "u2bITMI94NQh"
      },
      "source": [
        " def setElementReady(typeData,target,data,nbreClass):\r\n",
        "   #----declaration----#\r\n",
        "  dictionary = []\r\n",
        "  #---objet sift---#\r\n",
        "  sift=cv2.SIFT_create()\r\n",
        "  #---objet qui calcule le kmeans des features---#\r\n",
        "  indiceNonValide=[]\r\n",
        "  to=0\r\n",
        "\r\n",
        "  #-----la premiere boucle pour passer sur les classes-------#\r\n",
        "  for i in range(0,nbreClass):\r\n",
        "    fr=to\r\n",
        "    to=to+len(os.listdir('datasetProjetS5_2020/'+typeData+'/'+target[i]))\r\n",
        "    print(\"---class num\", i+1,\"---\")\r\n",
        "    print(\"from :\",fr+1)\r\n",
        "    print(\"to :\",to)\r\n",
        "    print(\"nbre element :\",to-fr)\r\n",
        "\r\n",
        "    #-----la deuxieme boucle pour passer sur touts les images de la classe i-------#\r\n",
        "    for j in range(fr,to):\r\n",
        "        progress(int((j-fr)*(100/(to-fr)))+1,30,\"detection of features : \"+target[i])\r\n",
        "        #------------detecter les features de l'image j de la classe i-----#\r\n",
        "        BOW = cv2.BOWKMeansTrainer(1)\r\n",
        "        kp , ft = sift.detectAndCompute(data[j],None)\r\n",
        "        if(ft is not None):\r\n",
        "          BOW.add(ft)\r\n",
        "          dictionary.append(BOW.cluster())\r\n",
        "        else :\r\n",
        "          indiceNonValide.append(j)\r\n",
        "    print()\r\n",
        "  print(\"---------DONE------------\")\r\n",
        "  #---retourne le dictionaire----#\r\n",
        "  return dictionary,indiceNonValide"
      ],
      "execution_count": null,
      "outputs": []
    },
    {
      "cell_type": "code",
      "metadata": {
        "id": "lUUr-fGACvBp"
      },
      "source": [
        "def setTargetsNumbers(targets):\r\n",
        "  train_labels=[]\r\n",
        "  class_index = -1\r\n",
        "  for target in targets:\r\n",
        "        if(\"\"\"Apple___Apple_scab\"\"\" == target):\r\n",
        "            class_index = 0\r\n",
        "        elif(\"\"\"Apple___Black_rot\"\"\" == target):\r\n",
        "            class_index = 1\r\n",
        "        elif(\"\"\"Apple___Cedar_apple_rust\"\"\" == target):\r\n",
        "            class_index = 2\r\n",
        "        elif(\"\"\"Apple___healthy\"\"\" == target):\r\n",
        "            class_index = 3\r\n",
        "        elif(\"Blueberry___healthy\" == target):\r\n",
        "            class_index = 4\r\n",
        "        elif(\"Cherry___healthy\" == target):\r\n",
        "          class_index = 5\r\n",
        "        elif(\"Cherry___Powdery_mildew\" == target):\r\n",
        "          class_index = 6\r\n",
        "        elif(\"Corn___Cercospora_leaf_spot Gray_leaf_spot\" == target):\r\n",
        "          class_index = 7\r\n",
        "        elif(\"Corn___Common_rust\" == target):\r\n",
        "          class_index = 8\r\n",
        "        elif(\"Corn___healthy\" == target):\r\n",
        "          class_index = 9\r\n",
        "        elif(\"Corn___Northern_Leaf_Blight\" == target):\r\n",
        "          class_index = 10\r\n",
        "        elif(\"Grape___Black_rot\" == target):\r\n",
        "          class_index = 11\r\n",
        "        elif(\"Grape___Esca_(Black_Measles)\" == target):\r\n",
        "          class_index = 12\r\n",
        "        elif(\"Grape___healthy\" == target):\r\n",
        "          class_index = 13\r\n",
        "        elif(\"Grape___Leaf_blight_(Isariopsis_Leaf_Spot)\" == target):\r\n",
        "          class_index = 14\r\n",
        "        elif(\"Orange___Haunglongbing_(Citrus_greening)\" == target):\r\n",
        "          class_index = 15\r\n",
        "        elif(\"Peach___Bacterial_spot\" == target):\r\n",
        "          class_index = 16\r\n",
        "        elif(\"Peach___healthy\" == target):\r\n",
        "          class_index = 17\r\n",
        "        elif(\"Pepper,_bell___Bacterial_spot\" == target):\r\n",
        "          class_index = 18\r\n",
        "        elif(\"Pepper,_bell___healthy\" == target):\r\n",
        "          class_index = 19\r\n",
        "        elif(\"Potato___Early_blight\" == target):\r\n",
        "          class_index = 20\r\n",
        "        elif(\"Potato___healthy\" == target):\r\n",
        "          class_index = 21\r\n",
        "        elif(\"Potato___Late_blight\" == target):\r\n",
        "          class_index = 22\r\n",
        "        elif(\"Raspberry___healthy\" == target):\r\n",
        "          class_index = 23\r\n",
        "        elif(\"Soybean___healthy\" == target):\r\n",
        "          class_index = 24\r\n",
        "        elif(\"Squash___Powdery_mildew\" == target):\r\n",
        "          class_index = 25\r\n",
        "        elif(\"Strawberry___healthy\" == target):\r\n",
        "          class_index = 26\r\n",
        "        elif(\"Strawberry___Leaf_scorch\" == target):\r\n",
        "          class_index = 27\r\n",
        "        elif(\"Tomato___Bacterial_spot\" == target):\r\n",
        "          class_index = 28\r\n",
        "        elif(\"Tomato___Early_blight\" == target):\r\n",
        "          class_index = 29\r\n",
        "        elif(\"Tomato___healthy\" == target):\r\n",
        "          class_index = 30\r\n",
        "        elif(\"Tomato___Late_blight\" == target):\r\n",
        "          class_index = 31\r\n",
        "        elif(\"Tomato___Leaf_Mold\" == target):\r\n",
        "          class_index = 32\r\n",
        "        elif(\"Tomato___Septoria_leaf_spot\" == target):\r\n",
        "          class_index = 33\r\n",
        "        elif(\"Tomato___Spider_mites Two-spotted_spider_mite\" == target):\r\n",
        "          class_index = 34\r\n",
        "        elif(\"Tomato___Target_Spot\" == target):\r\n",
        "          class_index = 35\r\n",
        "        elif(\"Tomato___Tomato_mosaic_virus\" == target):\r\n",
        "          class_index = 36\r\n",
        "        elif(\"Tomato___Tomato_Yellow_Leaf_Curl_Virus\" == target):\r\n",
        "          class_index = 37\r\n",
        "        train_labels.append(class_index)\r\n",
        "  return train_labels"
      ],
      "execution_count": null,
      "outputs": []
    },
    {
      "cell_type": "code",
      "metadata": {
        "id": "lpLdL2YpgO3K"
      },
      "source": [
        "def removeBadSizedImages(x,y,nbreBad): \r\n",
        "  for i in range(len(x)-nbreBad-1,0,-1):\r\n",
        "    if(len(x[i][0])!=128):\r\n",
        "      x.pop(i)\r\n",
        "      y.pop(i)\r\n"
      ],
      "execution_count": null,
      "outputs": []
    },
    {
      "cell_type": "code",
      "metadata": {
        "id": "EFtmqJSjPaAD"
      },
      "source": [
        "def getNumBadSizedImages(x):\r\n",
        "  bad=[]\r\n",
        "  print(\"lenght :\",len(x))\r\n",
        "  for i in range(len(x)):\r\n",
        "    if(len(x[i][0])!=128):\r\n",
        "      bad.append(i)\r\n",
        "\r\n",
        "  return len(bad)"
      ],
      "execution_count": null,
      "outputs": []
    },
    {
      "cell_type": "code",
      "metadata": {
        "id": "Uz3dGW72CDCd"
      },
      "source": [
        "def removeEleByList(x,nv):\r\n",
        "  nv.reverse()\r\n",
        "  for i in nv:\r\n",
        "    print(\"removing bad id:\",i)\r\n",
        "    x.pop(i)\r\n",
        "  return x"
      ],
      "execution_count": null,
      "outputs": []
    },
    {
      "cell_type": "code",
      "metadata": {
        "id": "1ZwobFDlAHFH"
      },
      "source": [
        "def executeTrain(x_train,y_train):\r\n",
        "  svc = SVC(C=0.1, break_ties=False, cache_size=200, class_weight='balanced', coef0=0.0,\r\n",
        "    decision_function_shape='ovo', degree=3, gamma=1, kernel='poly',\r\n",
        "    max_iter=-1, probability=True, random_state=None, shrinking=True,\r\n",
        "    tol=0.001, verbose=False)\r\n",
        "  svc.fit(x_train,y_train)\r\n",
        "  print(svc)\r\n",
        "  return svc"
      ],
      "execution_count": null,
      "outputs": []
    },
    {
      "cell_type": "code",
      "metadata": {
        "id": "Bhg3_0p2AtzY"
      },
      "source": [
        "def getXY(dataType,nbreClass):\r\n",
        "\r\n",
        "  #----------------data importation---------------------#\r\n",
        "  data_test,targets_test=importData(dataType,nbreClass)\r\n",
        "  ytest=getTargets(dataType,nbreClass)\r\n",
        "  #--------------end data importation-------------------#\r\n",
        "\r\n",
        "  #----------------cleaning xtest ytest-----------------#\r\n",
        "  #from classes to id\r\n",
        "  targets_test= setTargetsNumbers(targets_test)\r\n",
        "  y_test=targets_test\r\n",
        "  #get the form of testing\r\n",
        "  x_test,y_test_nvid=setElementReady(dataType,ytest,data_test,nbreClass)\r\n",
        "  #remove element that didnt get the testing form \r\n",
        "  y_test=removeEleByList(y_test,y_test_nvid)\r\n",
        "  #detect and remove it bad sized images\r\n",
        "  nbreBad= getNumBadSizedImages(x_test)\r\n",
        "  removeBadSizedImages(x_test,y_test,nbreBad)\r\n",
        "  #from 3d to 2d\r\n",
        "  for i in range(len(x_test)):\r\n",
        "    x_test[i]=x_test[i][0]\r\n",
        "  #x_test = np.array(x_test).reshape(len(y_test),128)\r\n",
        "  #-------------end cleaning xtest ytest----------------#\r\n",
        "\r\n",
        "  return x_test,y_test"
      ],
      "execution_count": null,
      "outputs": []
    },
    {
      "cell_type": "code",
      "metadata": {
        "id": "nvNLwiD7BNqM"
      },
      "source": [
        "def executeTest(x_test,y_test,svc):\r\n",
        "  resultat=svc.predict(x_test)\r\n",
        "  score = svc.score(x_test, y_test)\r\n",
        "  print()\r\n",
        "  print(\"--------------------------------score and ploting confusing matrix------------------------------\")\r\n",
        "  print()\r\n",
        "  accuracy = accuracy_score(y_test, resultat)\r\n",
        "  print (\"accuracy = \", accuracy)\r\n",
        "  cm = confusion_matrix(y_test, resultat)\r\n",
        "  plt.matshow(cm)\r\n",
        "  plt.title('Confusion matrix')\r\n",
        "  plt.colorbar()\r\n",
        "  plt.show()"
      ],
      "execution_count": null,
      "outputs": []
    },
    {
      "cell_type": "code",
      "metadata": {
        "id": "vsPcIY1d7q0k"
      },
      "source": [
        "def getTargetByImage(path,svm):\r\n",
        "    img = cv2.imread(path,cv2.IMREAD_GRAYSCALE)\r\n",
        "    img = cv2.GaussianBlur(img,(3,3),1)\r\n",
        "    x_test=[]\r\n",
        "    resultat = -1\r\n",
        "    sift=cv2.SIFT_create()\r\n",
        "    BOW = cv2.BOWKMeansTrainer(1)\r\n",
        "    kp , ft = sift.detectAndCompute(img,None)\r\n",
        "    if(ft is not None):\r\n",
        "      BOW.add(ft)\r\n",
        "      x_test=BOW.cluster()\r\n",
        "      resultat=svc.predict(x_test)\r\n",
        "    else:\r\n",
        "      print(\"cannot get the right shape\")\r\n",
        "\r\n",
        "    targets=getTargets(\"train\",38)\r\n",
        "    return targets[resultat[0]]\r\n"
      ],
      "execution_count": null,
      "outputs": []
    },
    {
      "cell_type": "markdown",
      "metadata": {
        "id": "U8-PvUwX5dti"
      },
      "source": [
        "# **Training**"
      ]
    },
    {
      "cell_type": "code",
      "metadata": {
        "colab": {
          "base_uri": "https://localhost:8080/"
        },
        "id": "KZQpgpwSCuEu",
        "outputId": "e9242d73-4f4a-4f78-ad70-742a4f57f776"
      },
      "source": [
        "x_train, y_train=getXY(\"train\",38)"
      ],
      "execution_count": null,
      "outputs": [
        {
          "output_type": "stream",
          "text": [
            "------------------------------------------\n",
            "Importation of data : [##############################] 100%\n",
            "------------------Done------------------\n",
            "Importation of targets\n",
            "------------------Done------------------\n",
            "---class num 1 ---\n",
            "from : 1\n",
            "to : 403\n",
            "nbre element : 403\n",
            "detection of features : Apple___Apple_scab : [##############################] 100%\n",
            "---class num 2 ---\n",
            "from : 404\n",
            "to : 803\n",
            "nbre element : 400\n",
            "detection of features : Apple___Black_rot : [##############################] 100%\n",
            "---class num 3 ---\n",
            "from : 804\n",
            "to : 967\n",
            "nbre element : 164\n",
            "detection of features : Apple___Cedar_apple_rust : [##############################] 100%\n",
            "---class num 4 ---\n",
            "from : 968\n",
            "to : 2020\n",
            "nbre element : 1053\n",
            "detection of features : Apple___healthy : [##############################] 100%\n",
            "---class num 5 ---\n",
            "from : 2021\n",
            "to : 2979\n",
            "nbre element : 959\n",
            "detection of features : Blueberry___healthy : [##############################] 100%\n",
            "---class num 6 ---\n",
            "from : 2980\n",
            "to : 3655\n",
            "nbre element : 676\n",
            "detection of features : Cherry___Powdery_mildew : [##############################] 100%\n",
            "---class num 7 ---\n",
            "from : 3656\n",
            "to : 4201\n",
            "nbre element : 546\n",
            "detection of features : Cherry___healthy : [##############################] 100%\n",
            "---class num 8 ---\n",
            "from : 4202\n",
            "to : 4529\n",
            "nbre element : 328\n",
            "detection of features : Corn___Cercospora_leaf_spot Gray_leaf_spot : [##############################] 100%\n",
            "---class num 9 ---\n",
            "from : 4530\n",
            "to : 5291\n",
            "nbre element : 762\n",
            "detection of features : Corn___Common_rust : [##############################] 100%\n",
            "---class num 10 ---\n",
            "from : 5292\n",
            "to : 5921\n",
            "nbre element : 630\n",
            "detection of features : Corn___Northern_Leaf_Blight : [##############################] 100%\n",
            "---class num 11 ---\n",
            "from : 5922\n",
            "to : 6721\n",
            "nbre element : 800\n",
            "detection of features : Corn___healthy : [##############################] 100%\n",
            "---class num 12 ---\n",
            "from : 6722\n",
            "to : 7477\n",
            "nbre element : 756\n",
            "detection of features : Grape___Black_rot : [##############################] 100%\n",
            "---class num 13 ---\n",
            "from : 7478\n",
            "to : 8333\n",
            "nbre element : 856\n",
            "detection of features : Grape___Esca_(Black_Measles) : [##############################] 100%\n",
            "---class num 14 ---\n",
            "from : 8334\n",
            "to : 9021\n",
            "nbre element : 688\n",
            "detection of features : Grape___Leaf_blight_(Isariopsis_Leaf_Spot) : [##############################] 100%\n",
            "---class num 15 ---\n",
            "from : 9022\n",
            "to : 9291\n",
            "nbre element : 270\n",
            "detection of features : Grape___healthy : [##############################] 100%\n",
            "---class num 16 ---\n",
            "from : 9292\n",
            "to : 12895\n",
            "nbre element : 3604\n",
            "detection of features : Orange___Haunglongbing_(Citrus_greening) : [##############################] 100%\n",
            "---class num 17 ---\n",
            "from : 12896\n",
            "to : 14364\n",
            "nbre element : 1469\n",
            "detection of features : Peach___Bacterial_spot : [##############################] 100%\n",
            "---class num 18 ---\n",
            "from : 14365\n",
            "to : 14594\n",
            "nbre element : 230\n",
            "detection of features : Peach___healthy : [##############################] 100%\n",
            "---class num 19 ---\n",
            "from : 14595\n",
            "to : 15229\n",
            "nbre element : 635\n",
            "detection of features : Pepper,_bell___Bacterial_spot : [##############################] 100%\n",
            "---class num 20 ---\n",
            "from : 15230\n",
            "to : 16176\n",
            "nbre element : 947\n",
            "detection of features : Pepper,_bell___healthy : [##############################] 100%\n",
            "---class num 21 ---\n",
            "from : 16177\n",
            "to : 16816\n",
            "nbre element : 640\n",
            "detection of features : Potato___Early_blight : [##############################] 100%\n",
            "---class num 22 ---\n",
            "from : 16817\n",
            "to : 17456\n",
            "nbre element : 640\n",
            "detection of features : Potato___Late_blight : [##############################] 100%\n",
            "---class num 23 ---\n",
            "from : 17457\n",
            "to : 17552\n",
            "nbre element : 96\n",
            "detection of features : Potato___healthy : [############################# ] 99%\n",
            "---class num 24 ---\n",
            "from : 17553\n",
            "to : 17789\n",
            "nbre element : 237\n",
            "detection of features : Raspberry___healthy : [##############################] 100%\n",
            "---class num 25 ---\n",
            "from : 17790\n",
            "to : 21350\n",
            "nbre element : 3561\n",
            "detection of features : Soybean___healthy : [##############################] 100%\n",
            "---class num 26 ---\n",
            "from : 21351\n",
            "to : 22539\n",
            "nbre element : 1189\n",
            "detection of features : Squash___Powdery_mildew : [##############################] 100%\n",
            "---class num 27 ---\n",
            "from : 22540\n",
            "to : 23249\n",
            "nbre element : 710\n",
            "detection of features : Strawberry___Leaf_scorch : [##############################] 100%\n",
            "---class num 28 ---\n",
            "from : 23250\n",
            "to : 23541\n",
            "nbre element : 292\n",
            "detection of features : Strawberry___healthy : [##############################] 100%\n",
            "---class num 29 ---\n",
            "from : 23542\n",
            "to : 24901\n",
            "nbre element : 1360\n",
            "detection of features : Tomato___Bacterial_spot : [##############################] 100%\n",
            "---class num 30 ---\n",
            "from : 24902\n",
            "to : 25541\n",
            "nbre element : 640\n",
            "detection of features : Tomato___Early_blight : [##############################] 100%\n",
            "---class num 31 ---\n",
            "from : 25542\n",
            "to : 26763\n",
            "nbre element : 1222\n",
            "detection of features : Tomato___Late_blight : [##############################] 100%\n",
            "---class num 32 ---\n",
            "from : 26764\n",
            "to : 27372\n",
            "nbre element : 609\n",
            "detection of features : Tomato___Leaf_Mold : [##############################] 100%\n",
            "---class num 33 ---\n",
            "from : 27373\n",
            "to : 28504\n",
            "nbre element : 1132\n",
            "detection of features : Tomato___Septoria_leaf_spot : [##############################] 100%\n",
            "---class num 34 ---\n",
            "from : 28505\n",
            "to : 29576\n",
            "nbre element : 1072\n",
            "detection of features : Tomato___Spider_mites Two-spotted_spider_mite : [##############################] 100%\n",
            "---class num 35 ---\n",
            "from : 29577\n",
            "to : 30466\n",
            "nbre element : 890\n",
            "detection of features : Tomato___Target_Spot : [##############################] 100%\n",
            "---class num 36 ---\n",
            "from : 30467\n",
            "to : 33894\n",
            "nbre element : 3428\n",
            "detection of features : Tomato___Tomato_Yellow_Leaf_Curl_Virus : [##############################] 100%\n",
            "---class num 37 ---\n",
            "from : 33895\n",
            "to : 34132\n",
            "nbre element : 238\n",
            "detection of features : Tomato___Tomato_mosaic_virus : [##############################] 100%\n",
            "---class num 38 ---\n",
            "from : 34133\n",
            "to : 35249\n",
            "nbre element : 1117\n",
            "detection of features : Tomato___healthy : [##############################] 100%\n",
            "---------DONE------------\n",
            "removing bad id: 6715\n",
            "removing bad id: 6637\n",
            "removing bad id: 6609\n",
            "removing bad id: 6579\n",
            "removing bad id: 6383\n",
            "removing bad id: 6358\n",
            "removing bad id: 6214\n",
            "removing bad id: 6184\n",
            "removing bad id: 6062\n",
            "removing bad id: 6056\n",
            "removing bad id: 5945\n",
            "removing bad id: 5936\n",
            "removing bad id: 5934\n",
            "lenght : 35236\n"
          ],
          "name": "stdout"
        }
      ]
    },
    {
      "cell_type": "code",
      "metadata": {
        "id": "_oylcz3JYFBy",
        "colab": {
          "base_uri": "https://localhost:8080/"
        },
        "outputId": "4aee5176-6728-40b4-cd09-4aae67c84265"
      },
      "source": [
        "svc=executeTrain(x_train,y_train)"
      ],
      "execution_count": null,
      "outputs": [
        {
          "output_type": "stream",
          "text": [
            "SVC(C=0.1, break_ties=False, cache_size=200, class_weight='balanced', coef0=0.0,\n",
            "    decision_function_shape='ovo', degree=3, gamma=1, kernel='poly',\n",
            "    max_iter=-1, probability=True, random_state=None, shrinking=True, tol=0.001,\n",
            "    verbose=False)\n"
          ],
          "name": "stdout"
        }
      ]
    },
    {
      "cell_type": "markdown",
      "metadata": {
        "id": "hp0LBZYU5rtq"
      },
      "source": [
        "# **Testing**\r\n"
      ]
    },
    {
      "cell_type": "markdown",
      "metadata": {
        "id": "oY7qdnuk6vjj"
      },
      "source": [
        "**Get score**"
      ]
    },
    {
      "cell_type": "code",
      "metadata": {
        "id": "mDbYAqpY9gNn",
        "colab": {
          "base_uri": "https://localhost:8080/"
        },
        "outputId": "6fc8f315-087b-4d29-e4d0-8cf873bb3a0f"
      },
      "source": [
        "x_test,y_test=getXY(\"test\",38)"
      ],
      "execution_count": null,
      "outputs": [
        {
          "output_type": "stream",
          "text": [
            "------------------------------------------\n",
            "Importation of data : [##############################] 100%\n",
            "------------------Done------------------\n",
            "Importation of targets\n",
            "------------------Done------------------\n",
            "---class num 1 ---\n",
            "from : 1\n",
            "to : 127\n",
            "nbre element : 127\n",
            "detection of features : Apple___Apple_scab : [##############################] 100%\n",
            "---class num 2 ---\n",
            "from : 128\n",
            "to : 251\n",
            "nbre element : 124\n",
            "detection of features : Apple___Black_rot : [##############################] 100%\n",
            "---class num 3 ---\n",
            "from : 252\n",
            "to : 306\n",
            "nbre element : 55\n",
            "detection of features : Apple___Cedar_apple_rust : [############################# ] 99%\n",
            "---class num 4 ---\n",
            "from : 307\n",
            "to : 635\n",
            "nbre element : 329\n",
            "detection of features : Apple___healthy : [##############################] 100%\n",
            "---class num 5 ---\n",
            "from : 636\n",
            "to : 936\n",
            "nbre element : 301\n",
            "detection of features : Blueberry___healthy : [##############################] 100%\n",
            "---class num 6 ---\n",
            "from : 937\n",
            "to : 1147\n",
            "nbre element : 211\n",
            "detection of features : Cherry___Powdery_mildew : [##############################] 100%\n",
            "---class num 7 ---\n",
            "from : 1148\n",
            "to : 1318\n",
            "nbre element : 171\n",
            "detection of features : Cherry___healthy : [##############################] 100%\n",
            "---class num 8 ---\n",
            "from : 1319\n",
            "to : 1421\n",
            "nbre element : 103\n",
            "detection of features : Corn___Cercospora_leaf_spot Gray_leaf_spot : [##############################] 100%\n",
            "---class num 9 ---\n",
            "from : 1422\n",
            "to : 1660\n",
            "nbre element : 239\n",
            "detection of features : Corn___Common_rust : [##############################] 100%\n",
            "---class num 10 ---\n",
            "from : 1661\n",
            "to : 1857\n",
            "nbre element : 197\n",
            "detection of features : Corn___Northern_Leaf_Blight : [##############################] 100%\n",
            "---class num 11 ---\n",
            "from : 1858\n",
            "to : 2089\n",
            "nbre element : 232\n",
            "detection of features : Corn___healthy : [##############################] 100%\n",
            "---class num 12 ---\n",
            "from : 2090\n",
            "to : 2325\n",
            "nbre element : 236\n",
            "detection of features : Grape___Black_rot : [##############################] 100%\n",
            "---class num 13 ---\n",
            "from : 2326\n",
            "to : 2602\n",
            "nbre element : 277\n",
            "detection of features : Grape___Esca_(Black_Measles) : [##############################] 100%\n",
            "---class num 14 ---\n",
            "from : 2603\n",
            "to : 2818\n",
            "nbre element : 216\n",
            "detection of features : Grape___Leaf_blight_(Isariopsis_Leaf_Spot) : [##############################] 100%\n",
            "---class num 15 ---\n",
            "from : 2819\n",
            "to : 2903\n",
            "nbre element : 85\n",
            "detection of features : Grape___healthy : [############################# ] 99%\n",
            "---class num 16 ---\n",
            "from : 2904\n",
            "to : 3905\n",
            "nbre element : 1002\n",
            "detection of features : Orange___Haunglongbing_(Citrus_greening) : [##############################] 100%\n",
            "---class num 17 ---\n",
            "from : 3906\n",
            "to : 4365\n",
            "nbre element : 460\n",
            "detection of features : Peach___Bacterial_spot : [##############################] 100%\n",
            "---class num 18 ---\n",
            "from : 4366\n",
            "to : 4437\n",
            "nbre element : 72\n",
            "detection of features : Peach___healthy : [############################# ] 99%\n",
            "---class num 19 ---\n",
            "from : 4438\n",
            "to : 4638\n",
            "nbre element : 201\n",
            "detection of features : Pepper,_bell___Bacterial_spot : [##############################] 100%\n",
            "---class num 20 ---\n",
            "from : 4639\n",
            "to : 4933\n",
            "nbre element : 295\n",
            "detection of features : Pepper,_bell___healthy : [##############################] 100%\n",
            "---class num 21 ---\n",
            "from : 4934\n",
            "to : 5133\n",
            "nbre element : 200\n",
            "detection of features : Potato___Early_blight : [##############################] 100%\n",
            "---class num 22 ---\n",
            "from : 5134\n",
            "to : 5333\n",
            "nbre element : 200\n",
            "detection of features : Potato___Late_blight : [##############################] 100%\n",
            "---class num 23 ---\n",
            "from : 5334\n",
            "to : 5364\n",
            "nbre element : 31\n",
            "detection of features : Potato___healthy : [############################# ] 97%\n",
            "---class num 24 ---\n",
            "from : 5365\n",
            "to : 5438\n",
            "nbre element : 74\n",
            "detection of features : Raspberry___healthy : [############################# ] 99%\n",
            "---class num 25 ---\n",
            "from : 5439\n",
            "to : 6457\n",
            "nbre element : 1019\n",
            "detection of features : Soybean___healthy : [##############################] 100%\n",
            "---class num 26 ---\n",
            "from : 6458\n",
            "to : 6824\n",
            "nbre element : 367\n",
            "detection of features : Squash___Powdery_mildew : [##############################] 100%\n",
            "---class num 27 ---\n",
            "from : 6825\n",
            "to : 7046\n",
            "nbre element : 222\n",
            "detection of features : Strawberry___Leaf_scorch : [##############################] 100%\n",
            "---class num 28 ---\n",
            "from : 7047\n",
            "to : 7137\n",
            "nbre element : 91\n",
            "detection of features : Strawberry___healthy : [############################# ] 99%\n",
            "---class num 29 ---\n",
            "from : 7138\n",
            "to : 7563\n",
            "nbre element : 426\n",
            "detection of features : Tomato___Bacterial_spot : [##############################] 100%\n",
            "---class num 30 ---\n",
            "from : 7564\n",
            "to : 7763\n",
            "nbre element : 200\n",
            "detection of features : Tomato___Early_blight : [##############################] 100%\n",
            "---class num 31 ---\n",
            "from : 7764\n",
            "to : 8144\n",
            "nbre element : 381\n",
            "detection of features : Tomato___Late_blight : [##############################] 100%\n",
            "---class num 32 ---\n",
            "from : 8145\n",
            "to : 8335\n",
            "nbre element : 191\n",
            "detection of features : Tomato___Leaf_Mold : [##############################] 100%\n",
            "---class num 33 ---\n",
            "from : 8336\n",
            "to : 8690\n",
            "nbre element : 355\n",
            "detection of features : Tomato___Septoria_leaf_spot : [##############################] 100%\n",
            "---class num 34 ---\n",
            "from : 8691\n",
            "to : 9025\n",
            "nbre element : 335\n",
            "detection of features : Tomato___Spider_mites Two-spotted_spider_mite : [##############################] 100%\n",
            "---class num 35 ---\n",
            "from : 9026\n",
            "to : 9305\n",
            "nbre element : 280\n",
            "detection of features : Tomato___Target_Spot : [##############################] 100%\n",
            "---class num 36 ---\n",
            "from : 9306\n",
            "to : 10377\n",
            "nbre element : 1072\n",
            "detection of features : Tomato___Tomato_Yellow_Leaf_Curl_Virus : [##############################] 100%\n",
            "---class num 37 ---\n",
            "from : 10378\n",
            "to : 10452\n",
            "nbre element : 75\n",
            "detection of features : Tomato___Tomato_mosaic_virus : [############################# ] 99%\n",
            "---class num 38 ---\n",
            "from : 10453\n",
            "to : 10770\n",
            "nbre element : 318\n",
            "detection of features : Tomato___healthy : [##############################] 100%\n",
            "---------DONE------------\n",
            "removing bad id: 3245\n",
            "removing bad id: 1857\n",
            "lenght : 10768\n"
          ],
          "name": "stdout"
        }
      ]
    },
    {
      "cell_type": "code",
      "metadata": {
        "id": "-ja4WBO_9gI1",
        "colab": {
          "base_uri": "https://localhost:8080/",
          "height": 331
        },
        "outputId": "08a769c8-85b1-4d3c-b767-a9a79d313891"
      },
      "source": [
        "executeTest(x_test,y_test,svc)"
      ],
      "execution_count": null,
      "outputs": [
        {
          "output_type": "stream",
          "text": [
            "\n",
            "--------------------------------score and ploting confusing matrix------------------------------\n",
            "\n",
            "accuracy =  0.7477243172951885\n"
          ],
          "name": "stdout"
        },
        {
          "output_type": "display_data",
          "data": {
            "image/png": "[encoded data removed]",
            "text/plain": [
              "<Figure size 288x288 with 2 Axes>"
            ]
          },
          "metadata": {
            "tags": [],
            "needs_background": "light"
          }
        }
      ]
    },
    {
      "cell_type": "code",
      "metadata": {
        "id": "9Wmu7Vk89nhT"
      },
      "source": [
        "#G = 84.5988\r\n",
        "#B = 86.37\r\n",
        "#G + B = 84.97\r\n",
        "#B + B = 85.46\r\n",
        "#rien = 85.46\r\n",
        "#gris = 85.89\r\n",
        "#gris + G = "
      ],
      "execution_count": null,
      "outputs": []
    },
    {
      "cell_type": "markdown",
      "metadata": {
        "id": "MTFnT0kW6P7H"
      },
      "source": [
        "**Test by image**\r\n",
        "\r\n",
        "\r\n"
      ]
    },
    {
      "cell_type": "code",
      "metadata": {
        "id": "gLy8xKKd9tEx",
        "colab": {
          "base_uri": "https://localhost:8080/"
        },
        "outputId": "6a93bf0e-ce85-4c23-d956-c1946f6eee6e"
      },
      "source": [
        "path = \"/content/datasetProjetS5_2020/valid/Apple___Black_rot/image (407).JPG\"\r\n",
        "\r\n",
        "resultat = getTargetByImage(path,svc)\r\n",
        "print(\"resultat predit =\",resultat)"
      ],
      "execution_count": null,
      "outputs": [
        {
          "output_type": "stream",
          "text": [
            "Importation of targets\n",
            "------------------Done------------------\n",
            "resultat predit = Apple___Black_rot\n"
          ],
          "name": "stdout"
        }
      ]
    },
    {
      "cell_type": "code",
      "metadata": {
        "id": "bsTcec8w9qfR",
        "colab": {
          "base_uri": "https://localhost:8080/",
          "height": 286
        },
        "outputId": "29986ce3-0ba8-45fd-ad9d-f898852aa80c"
      },
      "source": [
        "path = \"/content/datasetProjetS5_2020/valid/Apple___Black_rot/image (407).JPG\"\r\n",
        "img = cv2.imread(path,cv2.IMREAD_GRAYSCALE)\r\n",
        "#img = cv2.GaussianBlur(img,(3,3),1)\r\n",
        "#img = cv2.GaussianBlur(img,(5,5),1)\r\n",
        "#img = cv2.bilateralFilter(img,3,3,3)\r\n",
        "#img = cv2.bilateralFilter(img,5,20,100,borderType = cv2.BORDER_CONSTANT)\r\n",
        "img = cv2.Canny(img,250,250)\r\n",
        "#img = cv2.Canny(img,100,200)\r\n",
        "#img = cv2.Canny(img,100,200)\r\n",
        "#img = cv2.equalizeHist(img)\r\n",
        "#img = cv2.equalizeHist(img)\r\n",
        "#img = cv2.Laplacian(img,cv2.CV_64F, ksize=3)\r\n",
        "#img = max_rgb_filter(img)\r\n",
        "kernel = np.ones((5,5),np.float32)/25\r\n",
        "dst = cv2.filter2D(img,-1,kernel)\r\n",
        "median = cv2.medianBlur(img,5)\r\n",
        "blur = cv2.blur(img,(5,5))\r\n",
        "plt.imshow(img)"
      ],
      "execution_count": null,
      "outputs": [
        {
          "output_type": "execute_result",
          "data": {
            "text/plain": [
              "<matplotlib.image.AxesImage at 0x7f1e351f0cc0>"
            ]
          },
          "metadata": {
            "tags": []
          },
          "execution_count": 268
        },
        {
          "output_type": "display_data",
          "data": {
            "image/png": "[encoded data removed]",
            "text/plain": [
              "<Figure size 432x288 with 1 Axes>"
            ]
          },
          "metadata": {
            "tags": [],
            "needs_background": "light"
          }
        }
      ]
    },
    {
      "cell_type": "markdown",
      "metadata": {
        "id": "JTAFImVS5wTt"
      },
      "source": [
        "#**Validation**"
      ]
    },
    {
      "cell_type": "code",
      "metadata": {
        "id": "SvWurBpYdc0I",
        "colab": {
          "base_uri": "https://localhost:8080/",
          "height": 1000
        },
        "outputId": "2e08f195-e370-4276-d538-a807343f21e8"
      },
      "source": [
        "x_valid,y_valid = getXY(\"valid\",38)\r\n",
        "\r\n",
        "executeTest(x_valid , y_valid ,svc)"
      ],
      "execution_count": null,
      "outputs": [
        {
          "output_type": "stream",
          "text": [
            "------------------------------------------\n",
            "Importation of data : [##############################] 100%\n",
            "------------------Done------------------\n",
            "Importation of targets\n",
            "------------------Done------------------\n",
            "---class num 1 ---\n",
            "from : 1\n",
            "to : 100\n",
            "nbre element : 100\n",
            "detection of features : Apple___Apple_scab : [##############################] 100%\n",
            "---class num 2 ---\n",
            "from : 101\n",
            "to : 197\n",
            "nbre element : 97\n",
            "detection of features : Apple___Black_rot : [############################# ] 99%\n",
            "---class num 3 ---\n",
            "from : 198\n",
            "to : 253\n",
            "nbre element : 56\n",
            "detection of features : Apple___Cedar_apple_rust : [############################# ] 99%\n",
            "---class num 4 ---\n",
            "from : 254\n",
            "to : 516\n",
            "nbre element : 263\n",
            "detection of features : Apple___healthy : [##############################] 100%\n",
            "---class num 5 ---\n",
            "from : 517\n",
            "to : 758\n",
            "nbre element : 242\n",
            "detection of features : Blueberry___healthy : [##############################] 100%\n",
            "---class num 6 ---\n",
            "from : 759\n",
            "to : 923\n",
            "nbre element : 165\n",
            "detection of features : Cherry___Powdery_mildew : [##############################] 100%\n",
            "---class num 7 ---\n",
            "from : 924\n",
            "to : 1060\n",
            "nbre element : 137\n",
            "detection of features : Cherry___healthy : [##############################] 100%\n",
            "---class num 8 ---\n",
            "from : 1061\n",
            "to : 1142\n",
            "nbre element : 82\n",
            "detection of features : Corn___Cercospora_leaf_spot Gray_leaf_spot : [############################# ] 99%\n",
            "---class num 9 ---\n",
            "from : 1143\n",
            "to : 1333\n",
            "nbre element : 191\n",
            "detection of features : Corn___Common_rust : [##############################] 100%\n",
            "---class num 10 ---\n",
            "from : 1334\n",
            "to : 1491\n",
            "nbre element : 158\n",
            "detection of features : Corn___Northern_Leaf_Blight : [##############################] 100%\n",
            "---class num 11 ---\n",
            "from : 1492\n",
            "to : 1621\n",
            "nbre element : 130\n",
            "detection of features : Corn___healthy : [##############################] 100%\n",
            "---class num 12 ---\n",
            "from : 1622\n",
            "to : 1809\n",
            "nbre element : 188\n",
            "detection of features : Grape___Black_rot : [##############################] 100%\n",
            "---class num 13 ---\n",
            "from : 1810\n",
            "to : 2059\n",
            "nbre element : 250\n",
            "detection of features : Grape___Esca_(Black_Measles) : [##############################] 100%\n",
            "---class num 14 ---\n",
            "from : 2060\n",
            "to : 2231\n",
            "nbre element : 172\n",
            "detection of features : Grape___Leaf_blight_(Isariopsis_Leaf_Spot) : [##############################] 100%\n",
            "---class num 15 ---\n",
            "from : 2232\n",
            "to : 2299\n",
            "nbre element : 68\n",
            "detection of features : Grape___healthy : [############################# ] 99%\n",
            "---class num 16 ---\n",
            "from : 2300\n",
            "to : 3200\n",
            "nbre element : 901\n",
            "detection of features : Orange___Haunglongbing_(Citrus_greening) : [##############################] 100%\n",
            "---class num 17 ---\n",
            "from : 3201\n",
            "to : 3568\n",
            "nbre element : 368\n",
            "detection of features : Peach___Bacterial_spot : [##############################] 100%\n",
            "---class num 18 ---\n",
            "from : 3569\n",
            "to : 3626\n",
            "nbre element : 58\n",
            "detection of features : Peach___healthy : [############################# ] 99%\n",
            "---class num 19 ---\n",
            "from : 3627\n",
            "to : 3787\n",
            "nbre element : 161\n",
            "detection of features : Pepper,_bell___Bacterial_spot : [##############################] 100%\n",
            "---class num 20 ---\n",
            "from : 3788\n",
            "to : 4023\n",
            "nbre element : 236\n",
            "detection of features : Pepper,_bell___healthy : [##############################] 100%\n",
            "---class num 21 ---\n",
            "from : 4024\n",
            "to : 4183\n",
            "nbre element : 160\n",
            "detection of features : Potato___Early_blight : [##############################] 100%\n",
            "---class num 22 ---\n",
            "from : 4184\n",
            "to : 4343\n",
            "nbre element : 160\n",
            "detection of features : Potato___Late_blight : [##############################] 100%\n",
            "---class num 23 ---\n",
            "from : 4344\n",
            "to : 4368\n",
            "nbre element : 25\n",
            "detection of features : Potato___healthy : [############################# ] 97%\n",
            "---class num 24 ---\n",
            "from : 4369\n",
            "to : 4428\n",
            "nbre element : 60\n",
            "detection of features : Raspberry___healthy : [############################# ] 99%\n",
            "---class num 25 ---\n",
            "from : 4429\n",
            "to : 4938\n",
            "nbre element : 510\n",
            "detection of features : Soybean___healthy : [##############################] 100%\n",
            "---class num 26 ---\n",
            "from : 4939\n",
            "to : 5217\n",
            "nbre element : 279\n",
            "detection of features : Squash___Powdery_mildew : [##############################] 100%\n",
            "---class num 27 ---\n",
            "from : 5218\n",
            "to : 5394\n",
            "nbre element : 177\n",
            "detection of features : Strawberry___Leaf_scorch : [##############################] 100%\n",
            "---class num 28 ---\n",
            "from : 5395\n",
            "to : 5467\n",
            "nbre element : 73\n",
            "detection of features : Strawberry___healthy : [############################# ] 99%\n",
            "---class num 29 ---\n",
            "from : 5468\n",
            "to : 5808\n",
            "nbre element : 341\n",
            "detection of features : Tomato___Bacterial_spot : [##############################] 100%\n",
            "---class num 30 ---\n",
            "from : 5809\n",
            "to : 5968\n",
            "nbre element : 160\n",
            "detection of features : Tomato___Early_blight : [##############################] 100%\n",
            "---class num 31 ---\n",
            "from : 5969\n",
            "to : 6274\n",
            "nbre element : 306\n",
            "detection of features : Tomato___Late_blight : [##############################] 100%\n",
            "---class num 32 ---\n",
            "from : 6275\n",
            "to : 6426\n",
            "nbre element : 152\n",
            "detection of features : Tomato___Leaf_Mold : [##############################] 100%\n",
            "---class num 33 ---\n",
            "from : 6427\n",
            "to : 6710\n",
            "nbre element : 284\n",
            "detection of features : Tomato___Septoria_leaf_spot : [##############################] 100%\n",
            "---class num 34 ---\n",
            "from : 6711\n",
            "to : 6979\n",
            "nbre element : 269\n",
            "detection of features : Tomato___Spider_mites Two-spotted_spider_mite : [##############################] 100%\n",
            "---class num 35 ---\n",
            "from : 6980\n",
            "to : 7213\n",
            "nbre element : 234\n",
            "detection of features : Tomato___Target_Spot : [##############################] 100%\n",
            "---class num 36 ---\n",
            "from : 7214\n",
            "to : 8070\n",
            "nbre element : 857\n",
            "detection of features : Tomato___Tomato_Yellow_Leaf_Curl_Virus : [##############################] 100%\n",
            "---class num 37 ---\n",
            "from : 8071\n",
            "to : 8130\n",
            "nbre element : 60\n",
            "detection of features : Tomato___Tomato_mosaic_virus : [############################# ] 99%\n",
            "---class num 38 ---\n",
            "from : 8131\n",
            "to : 8286\n",
            "nbre element : 156\n",
            "detection of features : Tomato___healthy : [##############################] 100%\n",
            "---------DONE------------\n",
            "lenght : 8286\n",
            "\n",
            "--------------------------------score and ploting confusing matrix------------------------------\n",
            "\n",
            "accuracy =  0.7427571221632062\n"
          ],
          "name": "stdout"
        },
        {
          "output_type": "display_data",
          "data": {
            "image/png": "[encoded data removed]",
            "text/plain": [
              "<Figure size 288x288 with 2 Axes>"
            ]
          },
          "metadata": {
            "tags": [],
            "needs_background": "light"
          }
        }
      ]
    },
    {
      "cell_type": "markdown",
      "metadata": {
        "id": "C7-XAkVe50Es"
      },
      "source": [
        "#**Finding best params for svm**"
      ]
    },
    {
      "cell_type": "code",
      "metadata": {
        "id": "ZqKeSelQWNfW",
        "colab": {
          "base_uri": "https://localhost:8080/"
        },
        "outputId": "3e582947-a4ce-44df-dabf-3b19e476af45"
      },
      "source": [
        "from sklearn.model_selection import StratifiedShuffleSplit\r\n",
        "param_grid = {'C': [1,10],\r\n",
        "              'gamma': [1,0.1],\r\n",
        "              'kernel': ['rbf','poly'],\r\n",
        "              'decision_function_shape' :['ovo'],\r\n",
        "              'class_weight' :['balanced']}\r\n",
        "grid = GridSearchCV(SVC(),param_grid,refit=True,verbose=200,return_train_score=True,\r\n",
        "                    iid=True,n_jobs=-1,cv=StratifiedShuffleSplit(n_splits=2, test_size=0.2, random_state=42))\r\n",
        "grid.fit(x_train,y_train)\r\n",
        "print(\"best Estimator : \",grid.best_estimator_)\r\n",
        "print(\"best score : \",grid.best_score_)"
      ],
      "execution_count": null,
      "outputs": [
        {
          "output_type": "stream",
          "text": [
            "Fitting 2 folds for each of 8 candidates, totalling 16 fits\n",
            "[Parallel(n_jobs=-1)]: Using backend LokyBackend with 2 concurrent workers.\n",
            "[Parallel(n_jobs=-1)]: Done   1 tasks      | elapsed: 17.8min\n",
            "[Parallel(n_jobs=-1)]: Done   2 tasks      | elapsed: 17.8min\n",
            "[Parallel(n_jobs=-1)]: Done   3 tasks      | elapsed: 29.2min\n",
            "[Parallel(n_jobs=-1)]: Done   4 tasks      | elapsed: 29.3min\n",
            "[Parallel(n_jobs=-1)]: Done   5 tasks      | elapsed: 47.3min\n",
            "[Parallel(n_jobs=-1)]: Done   6 tasks      | elapsed: 47.4min\n",
            "[Parallel(n_jobs=-1)]: Done   7 tasks      | elapsed: 58.7min\n",
            "[Parallel(n_jobs=-1)]: Done   8 tasks      | elapsed: 58.8min\n",
            "[Parallel(n_jobs=-1)]: Done   9 tasks      | elapsed: 76.8min\n",
            "[Parallel(n_jobs=-1)]: Done  10 tasks      | elapsed: 76.9min\n",
            "[Parallel(n_jobs=-1)]: Done  11 tasks      | elapsed: 88.2min\n",
            "[Parallel(n_jobs=-1)]: Done  12 tasks      | elapsed: 88.4min\n",
            "[Parallel(n_jobs=-1)]: Done  13 tasks      | elapsed: 106.9min\n",
            "[Parallel(n_jobs=-1)]: Done  14 out of  16 | elapsed: 107.2min remaining: 15.3min\n",
            "[Parallel(n_jobs=-1)]: Done  16 out of  16 | elapsed: 118.4min remaining:    0.0s\n",
            "[Parallel(n_jobs=-1)]: Done  16 out of  16 | elapsed: 118.4min finished\n"
          ],
          "name": "stdout"
        },
        {
          "output_type": "stream",
          "text": [
            "/usr/local/lib/python3.6/dist-packages/sklearn/model_selection/_search.py:823: FutureWarning: The parameter 'iid' is deprecated in 0.22 and will be removed in 0.24.\n",
            "  \"removed in 0.24.\", FutureWarning\n"
          ],
          "name": "stderr"
        },
        {
          "output_type": "stream",
          "text": [
            "best Estimator :  SVC(C=1, break_ties=False, cache_size=200, class_weight='balanced', coef0=0.0,\n",
            "    decision_function_shape='ovo', degree=3, gamma=0.1, kernel='poly',\n",
            "    max_iter=-1, probability=False, random_state=None, shrinking=True,\n",
            "    tol=0.001, verbose=False)\n",
            "best score :  0.6726241134751773\n"
          ],
          "name": "stdout"
        }
      ]
    },
    {
      "cell_type": "code",
      "metadata": {
        "colab": {
          "base_uri": "https://localhost:8080/"
        },
        "id": "xAevdX49o92_",
        "outputId": "fed891df-4542-4626-829d-31a7caaf7aff"
      },
      "source": [
        "from sklearn.model_selection import StratifiedShuffleSplit\r\n",
        "param_grid = {'C': [0.1],\r\n",
        "              'gamma': [1],\r\n",
        "              'kernel': ['poly'],\r\n",
        "              'decision_function_shape' :['ovo'],\r\n",
        "              'class_weight' :['balanced'],\r\n",
        "              'degree' :[3],\r\n",
        "              'coef0' :[0,1,2,3,4,5,6]\r\n",
        "              }\r\n",
        "grid = GridSearchCV(SVC(),param_grid,refit=True,verbose=100,return_train_score=True,\r\n",
        "                    iid=True,n_jobs=-1,cv=StratifiedShuffleSplit(n_splits=2, test_size=0.2, random_state=42))\r\n",
        "grid.fit(x_train,y_train)\r\n",
        "print(\"best Estimator : \",grid.best_estimator_)\r\n",
        "print(\"best score : \",grid.best_score_)"
      ],
      "execution_count": null,
      "outputs": [
        {
          "output_type": "stream",
          "text": [
            "Fitting 2 folds for each of 7 candidates, totalling 14 fits\n",
            "[Parallel(n_jobs=-1)]: Using backend LokyBackend with 2 concurrent workers.\n",
            "[Parallel(n_jobs=-1)]: Done   1 tasks      | elapsed:  5.4min\n",
            "[Parallel(n_jobs=-1)]: Done   2 tasks      | elapsed:  5.4min\n",
            "[Parallel(n_jobs=-1)]: Done   3 tasks      | elapsed: 10.7min\n",
            "[Parallel(n_jobs=-1)]: Done   4 tasks      | elapsed: 10.8min\n",
            "[Parallel(n_jobs=-1)]: Done   5 tasks      | elapsed: 16.1min\n",
            "[Parallel(n_jobs=-1)]: Done   6 tasks      | elapsed: 16.1min\n",
            "[Parallel(n_jobs=-1)]: Done   7 tasks      | elapsed: 21.4min\n",
            "[Parallel(n_jobs=-1)]: Done   8 tasks      | elapsed: 21.6min\n",
            "[Parallel(n_jobs=-1)]: Done   9 tasks      | elapsed: 26.8min\n",
            "[Parallel(n_jobs=-1)]: Done  10 tasks      | elapsed: 26.9min\n",
            "[Parallel(n_jobs=-1)]: Done  11 tasks      | elapsed: 32.2min\n",
            "[Parallel(n_jobs=-1)]: Done  12 out of  14 | elapsed: 32.2min remaining:  5.4min\n",
            "[Parallel(n_jobs=-1)]: Done  14 out of  14 | elapsed: 37.6min remaining:    0.0s\n",
            "[Parallel(n_jobs=-1)]: Done  14 out of  14 | elapsed: 37.6min finished\n"
          ],
          "name": "stdout"
        },
        {
          "output_type": "stream",
          "text": [
            "/usr/local/lib/python3.6/dist-packages/sklearn/model_selection/_search.py:823: FutureWarning: The parameter 'iid' is deprecated in 0.22 and will be removed in 0.24.\n",
            "  \"removed in 0.24.\", FutureWarning\n"
          ],
          "name": "stderr"
        },
        {
          "output_type": "stream",
          "text": [
            "best Estimator :  SVC(C=0.1, break_ties=False, cache_size=200, class_weight='balanced', coef0=0,\n",
            "    decision_function_shape='ovo', degree=3, gamma=1, kernel='poly',\n",
            "    max_iter=-1, probability=False, random_state=None, shrinking=True,\n",
            "    tol=0.001, verbose=False)\n",
            "best score :  0.7468426280686817\n"
          ],
          "name": "stdout"
        }
      ]
    },
    {
      "cell_type": "markdown",
      "metadata": {
        "id": "XNaIYvRA5-nh"
      },
      "source": [
        "#**Save or Import the Svm**"
      ]
    },
    {
      "cell_type": "code",
      "metadata": {
        "colab": {
          "base_uri": "https://localhost:8080/"
        },
        "id": "H0C0cvLxiz6j",
        "outputId": "94cca16a-5a41-4b4c-8542-e51b20d996c0"
      },
      "source": [
        "import sklearn\r\n",
        "print('The scikit-learn version is {}.'.format(sklearn.__version__))"
      ],
      "execution_count": null,
      "outputs": [
        {
          "output_type": "stream",
          "text": [
            "The scikit-learn version is 0.22.2.post1.\n"
          ],
          "name": "stdout"
        }
      ]
    },
    {
      "cell_type": "code",
      "metadata": {
        "id": "OtSjha6se_HD"
      },
      "source": [
        "svc = joblib.load(\"/content/drive/MyDrive/Colab Notebooks/BestSVM.pkl\")"
      ],
      "execution_count": null,
      "outputs": []
    },
    {
      "cell_type": "code",
      "metadata": {
        "id": "ju7ZNu_1kh6Y",
        "colab": {
          "base_uri": "https://localhost:8080/"
        },
        "outputId": "d43874f9-e6a2-4a68-d98a-38fb480114e4"
      },
      "source": [
        "joblib.dump((svc), \"BestSVM.pkl\", compress=3) "
      ],
      "execution_count": null,
      "outputs": [
        {
          "output_type": "execute_result",
          "data": {
            "text/plain": [
              "['BestSVM.pkl']"
            ]
          },
          "metadata": {
            "tags": []
          },
          "execution_count": 20
        }
      ]
    },
    {
      "cell_type": "markdown",
      "metadata": {
        "id": "r3RVCXbHo6F3"
      },
      "source": [
        "#**Unused Functions**"
      ]
    },
    {
      "cell_type": "code",
      "metadata": {
        "id": "5NO3d71sskYQ"
      },
      "source": [
        " def getVisualWords(typeData,target,data,nbreClass):\r\n",
        "   #----declaration----#\r\n",
        "  dictionary = []\r\n",
        "  #---objet sift---#\r\n",
        "  sift=cv2.SIFT_create()\r\n",
        "  #---objet qui calcule le kmeans des features---#\r\n",
        "  BOW = cv2.BOWKMeansTrainer(nbreClass)\r\n",
        "  to=0\r\n",
        "\r\n",
        "  #-----la premiere boucle pour passer sur les classes-------#\r\n",
        "  for i in range(0,nbreClass):\r\n",
        "    fr=to\r\n",
        "    to=to+len(os.listdir('datasetProjetS5_2020/'+typeData+'/'+target[i]))\r\n",
        "    print(\"---class num\", i+1,\"---\")\r\n",
        "    print(\"from :\",fr+1)\r\n",
        "    print(\"to :\",to)\r\n",
        "    print(\"nbre element :\",to-fr)\r\n",
        "\r\n",
        "    #-----la deuxieme boucle pour passer sur touts les images de la classe i-------#\r\n",
        "    for j in range(fr,to):\r\n",
        "        progress(int((j-fr)*(100/(to-fr)))+1,30,\"detection of features : \"+target[i])\r\n",
        "        #------------detecter les features de l'image j de la classe i-----#\r\n",
        "        kp , ft = sift.detectAndCompute(data[j],None)\r\n",
        "        #---ajouter les features au objet qui va calculer leurs kmeans plus tard---#\r\n",
        "        if(ft is not None):\r\n",
        "          BOW.add(ft)\r\n",
        "    print()\r\n",
        "    print(\"-------------------\")\r\n",
        "  print(\"clustring ...\")\r\n",
        "  #---------calcul de kmean des features collecter-----#\r\n",
        "  dictionary = BOW.cluster()\r\n",
        "  print(\"---------DONE------------\")\r\n",
        "  #---retourne le dictionaire----#\r\n",
        "  return dictionary"
      ],
      "execution_count": null,
      "outputs": []
    },
    {
      "cell_type": "code",
      "metadata": {
        "id": "2HfIJ6v4-o-A"
      },
      "source": [
        "def drawHist(dictionary,target):\r\n",
        "  #----on dessine (nbreClass) histogrammes-----#\r\n",
        "  for i in range(nbreClass):\r\n",
        "    plt.hist(dictionary[i], bins='auto')\r\n",
        "    plt.title(str(\"Features :\"+target[i]))\r\n",
        "    plt.show()"
      ],
      "execution_count": null,
      "outputs": []
    }
  ]
}